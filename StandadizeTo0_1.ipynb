{
 "cells": [
  {
   "cell_type": "code",
   "execution_count": 57,
   "metadata": {
    "collapsed": false
   },
   "outputs": [
    {
     "name": "stdout",
     "output_type": "stream",
     "text": [
      "[   4.926   18.882    2.128   16.24  1030.326   11.404]\n",
      "[[ 0.47792576]\n",
      " [ 1.83195172]\n",
      " [ 0.20646082]\n",
      " [ 1.57562207]\n",
      " [99.963324  ]\n",
      " [ 1.10642821]]\n"
     ]
    },
    {
     "name": "stderr",
     "output_type": "stream",
     "text": [
      "/Users/mac/anaconda/lib/python2.7/site-packages/sklearn/utils/validation.py:386: DeprecationWarning: Passing 1d arrays as data is deprecated in 0.17 and willraise ValueError in 0.19. Reshape your data either using X.reshape(-1, 1) if your data has a single feature or X.reshape(1, -1) if it contains a single sample.\n",
      "  DeprecationWarning)\n"
     ]
    }
   ],
   "source": [
    "from sklearn import preprocessing\n",
    "import numpy as np\n",
    "X = np.array([4.926\n",
    ",18.882\n",
    ",2.128\n",
    ",16.240\n",
    ",1030.326\n",
    ",11.404])\n",
    "\n",
    "X = X\n",
    "print X\n",
    "X_scaled = preprocessing.normalize(X)\n",
    "X_mean_std = preprocessing.scale(X)\n",
    "X_mean = X_scaled.mean(axis=0)\n",
    "X_scaled.std\n",
    "# X_scaled += np.max(X_scaled)                                       \n",
    "X_scaled = X_scaled * 100\n",
    "X_scaled = X_scaled.transpose()\n",
    "np.savetxt('res.csv',X_scaled,delimiter = ',')\n",
    "print (X_scaled)\n",
    "\n",
    "#处理后数据的均值和方差\n",
    "# X_scaled.mean(axis=0)\n",
    " \n",
    "# X_scaled.std(axis=0)"
   ]
  }
 ],
 "metadata": {
  "anaconda-cloud": {},
  "kernelspec": {
   "display_name": "Python [conda root]",
   "language": "python",
   "name": "conda-root-py"
  },
  "language_info": {
   "codemirror_mode": {
    "name": "ipython",
    "version": 3
   },
   "file_extension": ".py",
   "mimetype": "text/x-python",
   "name": "python",
   "nbconvert_exporter": "python",
   "pygments_lexer": "ipython3",
   "version": "3.5.2"
  }
 },
 "nbformat": 4,
 "nbformat_minor": 1
}
