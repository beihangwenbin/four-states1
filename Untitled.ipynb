{
 "cells": [
  {
   "cell_type": "code",
   "execution_count": 210,
   "metadata": {
    "collapsed": false
   },
   "outputs": [],
   "source": [
    "import numpy as np\n",
    "import matplotlib as mpl\n",
    "import matplotlib.pyplot as plt\n",
    "import pandas as pd \n",
    "import math\n",
    "from __future__ import print_function\n",
    "from scipy import  stats\n",
    "import statsmodels.api as sm\n",
    "from statsmodels.graphics.api import qqplot"
   ]
  },
  {
   "cell_type": "code",
   "execution_count": 211,
   "metadata": {
    "collapsed": false
   },
   "outputs": [],
   "source": [
    "data=pd.read_excel('2018_MCM-ICM_Problems/ProblemCData.xlsx')"
   ]
  },
  {
   "cell_type": "code",
   "execution_count": 212,
   "metadata": {
    "collapsed": false
   },
   "outputs": [
    {
     "name": "stdout",
     "output_type": "stream",
     "text": [
      "(105744, 4)\n"
     ]
    }
   ],
   "source": [
    "print(data.shape)"
   ]
  },
  {
   "cell_type": "code",
   "execution_count": 213,
   "metadata": {
    "collapsed": false
   },
   "outputs": [],
   "source": [
    "msn=data.iloc[:,0].values\n",
    "stateCode=data.iloc[:,1].values\n",
    "year=data.iloc[:,2].values\n",
    "da=data.iloc[:,3].values"
   ]
  },
  {
   "cell_type": "code",
   "execution_count": 214,
   "metadata": {
    "collapsed": false
   },
   "outputs": [
    {
     "name": "stdout",
     "output_type": "stream",
     "text": [
      "ABICB\n",
      "AZ\n",
      "1960\n",
      "0.0\n",
      "583\n",
      "['AZ', 'CA', 'NM', 'TX']\n"
     ]
    }
   ],
   "source": [
    "print(msn[0])\n",
    "print(stateCode[0])\n",
    "print(year[0])\n",
    "print(da[0])\n",
    "msnSet=sorted(set(msn))\n",
    "print(len(msnSet))\n",
    "stateSet=sorted(set(stateCode))\n",
    "print(stateSet)"
   ]
  },
  {
   "cell_type": "code",
   "execution_count": 215,
   "metadata": {
    "collapsed": false
   },
   "outputs": [],
   "source": [
    "data=np.zeros(dtype=np.float32,shape=(583,50,4))\n",
    "for i in range(len(msn)):\n",
    "    index=msnSet.index(msn[i])\n",
    "    num=int(year[i]-1960)\n",
    "    dim=stateSet.index(stateCode[i])\n",
    "    data[index,num,dim]=da[i]\n",
    "            \n",
    "    "
   ]
  },
  {
   "cell_type": "code",
   "execution_count": 216,
   "metadata": {
    "collapsed": true
   },
   "outputs": [],
   "source": [
    "#原煤 o．755 9\n",
    "#燃料油0．6185\n",
    "#洗精煤0．7559\n",
    "#其他石油制品0．5857\n",
    "#焦炭0．8550\n",
    "#液化石油气0．5042\n",
    "#其他焦化产品0．6449\n",
    "#天然气0．4483\n",
    "#原油0．5857\n",
    "#焦炉煤气0．3548\n",
    "#汽油0．5538\n",
    "#炼厂干气0．4602\n",
    "#煤油0．5714 \n",
    "#其他煤气0．3548\n",
    "#柴油0．5921"
   ]
  },
  {
   "cell_type": "code",
   "execution_count": 218,
   "metadata": {
    "collapsed": false
   },
   "outputs": [],
   "source": [
    "#常规信息\n",
    "TPOPP=data[msnSet.index('TPOPP')]   #总人口千\n",
    "TETPB=data[msnSet.index('TETPB')]   #人均消费能量\n",
    "TETGR=data[msnSet.index('TETGR')]   #单位 1000Btu/2000美元\n",
    "GDPRV=data[msnSet.index('GDPRV')]   #当前GDP\n",
    "GDPRX=data[msnSet.index('GDPRX')]   #真实GDP "
   ]
  },
  {
   "cell_type": "code",
   "execution_count": 221,
   "metadata": {
    "collapsed": false
   },
   "outputs": [],
   "source": [
    "#沥青和道路石油 22\n",
    "ARICB=data[msnSet.index('ARICB')]    #工业能量\n",
    "ARICV=data[msnSet.index('ARICV')]    #工业消费\n",
    "ARTCB=data[msnSet.index('ARTCB')]    #总能量\n",
    "ARTCV=data[msnSet.index('ARTCV')]    #总消费\n",
    "AROCB=ARTCB-ARICB                    #其他领域能量\n",
    "AROCV=ARTCV-ARICV                    #其他领域消费"
   ]
  },
  {
   "cell_type": "code",
   "execution_count": 222,
   "metadata": {
    "collapsed": true
   },
   "outputs": [],
   "source": [
    "#航空汽油(其他领域基本没有消费) 19.1\n",
    "AVACB=data[msnSet.index('AVACB')]   #交通能量\n",
    "AVACV=data[msnSet.index('AVACV')]   #交通消费\n",
    "AVTCB=data[msnSet.index('AVTCB')]   #总能量\n",
    "AVTCV=data[msnSet.index('AVTCV')]   #总消费\n",
    "AVOCB=AVTCB-AVACB                   #其他领域能量\n",
    "AVOCV=AVTCV-AVACV                   #其他领域消费"
   ]
  },
  {
   "cell_type": "code",
   "execution_count": 223,
   "metadata": {
    "collapsed": true
   },
   "outputs": [],
   "source": [
    "#生物质总消费（没有成本） 30.5\n",
    "BMTCB=data[msnSet.index('BMTCB')]   #总能量"
   ]
  },
  {
   "cell_type": "code",
   "execution_count": 224,
   "metadata": {
    "collapsed": true
   },
   "outputs": [],
   "source": [
    "#煤  25.8\n",
    "CLCCB=data[msnSet.index('CLCCB')]   #商业能量\n",
    "CLCCV=data[msnSet.index('CLCCV')]   #商业消费\n",
    "CLICB=data[msnSet.index('CLICB')]   #工业能量\n",
    "CLICV=data[msnSet.index('CLICV')]   #工业消费\n",
    "CLTCB=data[msnSet.index('CLTCB')]   #总能量\n",
    "CLTCV=data[msnSet.index('CLTCV')]   #总消费\n",
    "CLOCB=CLTCB-CLICB-CLCCB             #其他领域能量\n",
    "CLOCV=CLTCV-CLICV-CLCCV             #其他领域消费"
   ]
  },
  {
   "cell_type": "code",
   "execution_count": 225,
   "metadata": {
    "collapsed": true
   },
   "outputs": [],
   "source": [
    "#馏分燃料 21.1\n",
    "DFCCB=data[msnSet.index('DFCCB')]   #商业能量\n",
    "DFCCV=data[msnSet.index('DFCCV')]   #商业消费\n",
    "DFICB=data[msnSet.index('DFICB')]   #工业能量\n",
    "DFICV=data[msnSet.index('DFICV')]   #工业消费\n",
    "DFTCB=data[msnSet.index('DFTCB')]   #总能量\n",
    "DFTCV=data[msnSet.index('DFTCV')]   #总消费\n",
    "DFOCB=DFTCB-DFICB-DFCCB             #其他领域能量\n",
    "DFOCV=DFTCV-DFICV-DFCCV             #其他领域消费"
   ]
  },
  {
   "cell_type": "code",
   "execution_count": 226,
   "metadata": {
    "collapsed": true
   },
   "outputs": [],
   "source": [
    "#电力\n",
    "ELEXB=data[msnSet.index('ELEXB')]   #出口到美国能量\n",
    "ELEXV=data[msnSet.index('ELEXV')]   #出口到美国获利\n",
    "ELIMB=data[msnSet.index('ELIMB')]   #从美国进口能量\n",
    "ELIMV=data[msnSet.index('ELIMV')]   #从美国进口消费\n",
    "ELOBB=ELEXB-ELIMB                   #电力能量进出口差\n",
    "ELOBV=ELEXV-ELIMV                   #电力消费进出口差"
   ]
  },
  {
   "cell_type": "code",
   "execution_count": 227,
   "metadata": {
    "collapsed": true
   },
   "outputs": [],
   "source": [
    "#电力消耗\n",
    "ESCCB=data[msnSet.index('ESCCB')]   #商业能量\n",
    "ESCCV=data[msnSet.index('ESCCV')]   #商业消费\n",
    "ESICB=data[msnSet.index('ESCCB')]   #工业能量\n",
    "ESICV=data[msnSet.index('ESCCV')]   #工业消费\n",
    "ESTCB=data[msnSet.index('ESTCB')]   #总能量\n",
    "ESTCV=data[msnSet.index('ESTCV')]   #总消费\n",
    "ESOCB=ESTCB-ESICB-ESCCB             #其他领域的能量\n",
    "ESOCV=ESTCV-ESICV-ESCCV             #其他领域的消费"
   ]
  },
  {
   "cell_type": "code",
   "execution_count": 228,
   "metadata": {
    "collapsed": true
   },
   "outputs": [],
   "source": [
    "#乙醇燃料 16\n",
    "EMCCB=data[msnSet.index('EMCCB')]   #商业能量\n",
    "EMCCV=data[msnSet.index('EMCCV')]   #商业消费\n",
    "EMICB=data[msnSet.index('EMICB')]   #工业能量\n",
    "EMICV=data[msnSet.index('EMICV')]   #工业消费\n",
    "EMTCB=data[msnSet.index('EMTCB')]   #总能量\n",
    "EMTCV=data[msnSet.index('EMTCV')]   #总消费\n",
    "EMOCB=EMTCB-EMICB-EMCCB             #其他领域能量\n",
    "EMOCV=EMTCV-EMICV-EMCCV             #其他领域消费"
   ]
  },
  {
   "cell_type": "code",
   "execution_count": 229,
   "metadata": {
    "collapsed": true
   },
   "outputs": [],
   "source": [
    "#石化燃料（仅有工业部门） 20\n",
    "FSICB=data[msnSet.index('FSICB')]   #工业能量\n",
    "FSICV=data[msnSet.index('FSICV')]   #工业消费"
   ]
  },
  {
   "cell_type": "code",
   "execution_count": 230,
   "metadata": {
    "collapsed": false
   },
   "outputs": [],
   "source": [
    "#地热（清洁能源）只有 ca有这个能源\n",
    "GECCB=data[msnSet.index('GECCB')]   #商业能量\n",
    "GEICB=data[msnSet.index('GEICB')]   #工业能量\n",
    "GETCB=data[msnSet.index('GETCB')]   #总能量\n",
    "GEOCB=GETCB-GEICB-GECCB             #其他领域"
   ]
  },
  {
   "cell_type": "code",
   "execution_count": 231,
   "metadata": {
    "collapsed": true
   },
   "outputs": [],
   "source": [
    "#水力发电\n",
    "HYCCB=data[msnSet.index('HYCCB')]   #商业能量\n",
    "HYICB=data[msnSet.index('HYICB')]   #工业能量\n",
    "HYTCB=data[msnSet.index('HYTCB')]   #总能量\n",
    "HYOCB=HYTCB-HYCCB-HYICB"
   ]
  },
  {
   "cell_type": "code",
   "execution_count": 232,
   "metadata": {
    "collapsed": true
   },
   "outputs": [],
   "source": [
    "#风能发电\n",
    "WYTCB=data[msnSet.index('WYTCB')]   #总能量"
   ]
  },
  {
   "cell_type": "code",
   "execution_count": 233,
   "metadata": {
    "collapsed": true
   },
   "outputs": [],
   "source": [
    "#喷气燃料  20\n",
    "JFACB=data[msnSet.index('JFACB')]   #交通能量\n",
    "JFACV=data[msnSet.index('JFACV')]   #交通消费\n",
    "JFTCB=data[msnSet.index('JFTCB')]   #总能量\n",
    "JFTCV=data[msnSet.index('JFTCV')]   #总消费\n",
    "JFOCB=JFTCB-JFACB                   #其他领域能量\n",
    "JFOCV=JFTCV-JFACV                   #其他领域消费"
   ]
  },
  {
   "cell_type": "code",
   "execution_count": 234,
   "metadata": {
    "collapsed": false
   },
   "outputs": [],
   "source": [
    "#煤油 19.6\n",
    "KSCCB=data[msnSet.index('KSCCB')]   #商业能量\n",
    "KSCCV=data[msnSet.index('KSCCV')]   #商业消费\n",
    "KSICB=data[msnSet.index('KSICB')]   #工业能量\n",
    "KSICV=data[msnSet.index('KSICV')]   #工业消费\n",
    "KSTCB=data[msnSet.index('KSTCB')]   #总能量\n",
    "KSTCV=data[msnSet.index('KSTCV')]   #总消费\n",
    "KSOCB=KSTCB-KSICB-KSCCB              #其他领域能量\n",
    "KSOCV=KSTCV-KSICV-KSCCV              #其他领域消费"
   ]
  },
  {
   "cell_type": "code",
   "execution_count": 235,
   "metadata": {
    "collapsed": true
   },
   "outputs": [],
   "source": [
    "#液化石油气  17.2\n",
    "LGCCB=data[msnSet.index('LGCCB')]   #商业能量\n",
    "LGCCV=data[msnSet.index('LGCCV')]   #商业消费\n",
    "LGICB=data[msnSet.index('LGICB')]   #工业能量\n",
    "LGICV=data[msnSet.index('LGICV')]   #工业消费\n",
    "LGTCB=data[msnSet.index('LGTCB')]   #总能量\n",
    "LGTCV=data[msnSet.index('LGTCV')]   #总消费\n",
    "LGOCB=LGTCB-LGICB-LGCCB             #其他领域能量\n",
    "LGOCV=LGTCV-LGICV-LGCCV             #其他领域消费"
   ]
  },
  {
   "cell_type": "code",
   "execution_count": 236,
   "metadata": {
    "collapsed": true
   },
   "outputs": [],
   "source": [
    "#润滑油 20\n",
    "LUICB=data[msnSet.index('LUICB')]   #工业能量\n",
    "LUICV=data[msnSet.index('LUICV')]   #工业消费\n",
    "LUTCB=data[msnSet.index('LUTCB')]   #总能量\n",
    "LUTCV=data[msnSet.index('LUTCV')]   #总消费\n",
    "LUOCB=LUTCB-LUICB                   #其他领域能量\n",
    "LUOCV=LUTCV-LUICV                   #其他领域消费"
   ]
  },
  {
   "cell_type": "code",
   "execution_count": 237,
   "metadata": {
    "collapsed": true
   },
   "outputs": [],
   "source": [
    "#车用汽油 18.9\n",
    "MGCCB=data[msnSet.index('MGCCB')]   #商业能量\n",
    "MGCCV=data[msnSet.index('MGCCV')]   #商业消费\n",
    "MGICB=data[msnSet.index('MGICB')]   #工业能量\n",
    "MGICV=data[msnSet.index('MGICV')]   #工业消费\n",
    "MGTCB=data[msnSet.index('MGTCB')]   #总能量\n",
    "MGTCV=data[msnSet.index('MGTCV')]   #总消费\n",
    "MGOCB=MGTCB-MGICB-MGCCB             #其他领域能量\n",
    "MGOCV=MGTCV-MGICV-MGCCV             #其他领域消费"
   ]
  },
  {
   "cell_type": "code",
   "execution_count": 238,
   "metadata": {
    "collapsed": true
   },
   "outputs": [],
   "source": [
    "#天然气 15.3\n",
    "NGCCB=data[msnSet.index('NGCCB')]   #商业能量\n",
    "NGCCV=data[msnSet.index('NGCCV')]   #商业消费\n",
    "NGICB=data[msnSet.index('NGICB')]   #工业能量\n",
    "NGICV=data[msnSet.index('NGICV')]   #工业消费\n",
    "NGTCB=data[msnSet.index('NGTCB')]   #总能量\n",
    "NGTCV=data[msnSet.index('NGTCV')]   #总消费\n",
    "NGOCB=NGTCB-NGICB-NGCCB             #其他领域能量\n",
    "NGOCV=NGTCV-NGICV-NGCCV             #其他领域消费"
   ]
  },
  {
   "cell_type": "code",
   "execution_count": 239,
   "metadata": {
    "collapsed": true
   },
   "outputs": [],
   "source": [
    "#核能发电\n",
    "NUEGB=data[msnSet.index('NUEGB')]   #核能发电能量\n",
    "NUEGV=data[msnSet.index('NUEGV')]   #核能发电消费"
   ]
  },
  {
   "cell_type": "code",
   "execution_count": 240,
   "metadata": {
    "collapsed": true
   },
   "outputs": [],
   "source": [
    "#石油焦 26.6\n",
    "PCCCB=data[msnSet.index('PCCCB')]   #商业能量\n",
    "PCCCV=data[msnSet.index('PCCCV')]   #商业消费\n",
    "PCICB=data[msnSet.index('PCICB')]   #工业能量\n",
    "PCICV=data[msnSet.index('PCICV')]   #工业消费\n",
    "PCTCB=data[msnSet.index('PCTCB')]   #总能量\n",
    "PCTCV=data[msnSet.index('PCTCV')]   #总消费\n",
    "PCOCB=PCTCB-PCICB-PCCCB             #其他领域能量\n",
    "PCOCV=PCTCV-PCICV-PCCCV             #其他领域消费"
   ]
  },
  {
   "cell_type": "code",
   "execution_count": 241,
   "metadata": {
    "collapsed": true
   },
   "outputs": [],
   "source": [
    "#一次能源  27.3\n",
    "PECCD=data[msnSet.index('PECCD')]   #商业价格\n",
    "PECCV=data[msnSet.index('PECCV')]   #商业消费\n",
    "PEICD=data[msnSet.index('PEICD')]   #工业能量\n",
    "PEICV=data[msnSet.index('PEICV')]   #工业消费\n",
    "PETCD=data[msnSet.index('PETCD')]   #总能量\n",
    "PETCV=data[msnSet.index('PETCV')]   #总消费"
   ]
  },
  {
   "cell_type": "code",
   "execution_count": 242,
   "metadata": {
    "collapsed": true
   },
   "outputs": [],
   "source": [
    "#其他石油产品 20\n",
    "POICB=data[msnSet.index('POICB')]   #工业能量\n",
    "POICV=data[msnSet.index('POICV')]   #工业消费\n",
    "POTCB=data[msnSet.index('POTCB')]   #总能量\n",
    "POTCV=data[msnSet.index('POTCV')]   #总消费\n",
    "POOCB=POTCB-POICB                   #其他领域能量\n",
    "POOCV=POTCV-POICV                   #其他领域消费"
   ]
  },
  {
   "cell_type": "code",
   "execution_count": 243,
   "metadata": {
    "collapsed": true
   },
   "outputs": [],
   "source": [
    "#可再生能源 \n",
    "RETCB=data[msnSet.index('RETCB')]   #总能量"
   ]
  },
  {
   "cell_type": "code",
   "execution_count": 244,
   "metadata": {
    "collapsed": true
   },
   "outputs": [],
   "source": [
    "#残油 20\n",
    "RFCCB=data[msnSet.index('RFCCB')]   #商业能量\n",
    "RFCCV=data[msnSet.index('RFCCV')]   #商业消费\n",
    "RFICB=data[msnSet.index('RFICB')]   #工业能量\n",
    "RFICV=data[msnSet.index('RFICV')]   #工业消费\n",
    "RFTCB=data[msnSet.index('RFTCB')]   #总能量\n",
    "RFTCV=data[msnSet.index('RFTCV')]   #总消费\n",
    "RFOCB=RFTCB-RFICB-RFCCB             #其他领域能量\n",
    "RFOCV=RFTCV-RFICV-RFCCV             #其他领域消费"
   ]
  },
  {
   "cell_type": "code",
   "execution_count": 245,
   "metadata": {
    "collapsed": true
   },
   "outputs": [],
   "source": [
    "#木材 30.5\n",
    "WWCCB=data[msnSet.index('WWCCB')]   #商业能量\n",
    "WWCCV=data[msnSet.index('WWCCV')]   #商业消费\n",
    "WWICB=data[msnSet.index('WWICB')]   #工业能量\n",
    "WWICV=data[msnSet.index('WWICV')]   #工业消费\n",
    "WWTCB=data[msnSet.index('WWTCB')]   #总能量\n",
    "WWTCV=data[msnSet.index('WWTCV')]   #总消费\n",
    "WWOCB=WWTCB-WWICB-WWCCB             #其他领域能量\n",
    "WWOCV=WWTCV-WWICV-WWCCV             #其他领域消费"
   ]
  },
  {
   "cell_type": "code",
   "execution_count": 246,
   "metadata": {
    "collapsed": false
   },
   "outputs": [],
   "source": [
    "#总能量\n",
    "TETPB=data[msnSet.index('TETPB')]   #人均能量\n",
    "TECCB=data[msnSet.index('TECCB')]   #商业能量\n",
    "TECCV=data[msnSet.index('TECCV')]   #商业消费\n",
    "TEICB=data[msnSet.index('TEICB')]   #工业能量\n",
    "TEICV=data[msnSet.index('TEICV')]   #工业消费\n",
    "TETCB=data[msnSet.index('TETCB')]   #总能量\n",
    "TETCV=data[msnSet.index('TETCV')]   #总消费\n",
    "TEOCB=TETCB-TEICB-TECCB             #其他领域能量\n",
    "TEOCV=TETCV-TEICV-TECCV             #其他领域消费"
   ]
  },
  {
   "cell_type": "code",
   "execution_count": 247,
   "metadata": {
    "collapsed": false
   },
   "outputs": [
    {
     "name": "stdout",
     "output_type": "stream",
     "text": [
      "22\n"
     ]
    }
   ],
   "source": [
    "name=['沥青和道路石油','航空汽油','生物质总消费','煤','馏分燃料','电力消耗','乙醇燃料','石化燃料','地热','水力','风能','喷气燃料','煤油','液化石油气','润滑油','车用汽油','天然气','核能发电','石油焦','其他石油','残油','木材']\n",
    "print(len(name))"
   ]
  },
  {
   "cell_type": "code",
   "execution_count": 248,
   "metadata": {
    "collapsed": false
   },
   "outputs": [],
   "source": [
    "energy=np.zeros(dtype=np.float32,shape=(22,50,4))\n",
    "level=[22,19.1,30.5,25.8,21.1,12,16,20,12,12,12,20,19.6,17.2,20,18.9,15.3,12,26.6,20,20,30.5]\n",
    "energy[0]=ARTCB\n",
    "energy[1]=AVTCB\n",
    "energy[2]=BMTCB\n",
    "energy[3]=CLTCB\n",
    "energy[4]=DFTCB\n",
    "energy[5]=ESTCB\n",
    "energy[6]=EMTCB\n",
    "energy[7]=FSICB\n",
    "energy[8]=GETCB\n",
    "energy[9]=HYTCB\n",
    "energy[10]=WYTCB\n",
    "energy[11]=JFTCB\n",
    "energy[12]=KSTCB\n",
    "energy[13]=LGTCB\n",
    "energy[14]=LUTCB\n",
    "energy[15]=MGTCB\n",
    "energy[16]=NGTCB\n",
    "energy[17]=NUEGB\n",
    "energy[18]=PCTCB\n",
    "energy[19]=POTCB\n",
    "energy[20]=RFTCB\n",
    "energy[21]=WWTCB"
   ]
  },
  {
   "cell_type": "code",
   "execution_count": 249,
   "metadata": {
    "collapsed": false
   },
   "outputs": [],
   "source": [
    "Ienergy=np.zeros(dtype=np.float32,shape=(17,50,4))\n",
    "Ilevel=[22,25.8,21.1,12,16,20,12,12,19.6,17.2,20,18.9,15.3,26.6,20,20,30.5]\n",
    "Ienergy[0]=ARICB\n",
    "Ienergy[1]=CLICB\n",
    "Ienergy[2]=DFICB\n",
    "Ienergy[3]=ESICB\n",
    "Ienergy[4]=EMICB\n",
    "Ienergy[5]=FSICB\n",
    "Ienergy[6]=GEICB\n",
    "Ienergy[7]=HYICB\n",
    "Ienergy[8]=KSICB\n",
    "Ienergy[9]=LGICB\n",
    "Ienergy[10]=LUICB\n",
    "Ienergy[11]=MGICB\n",
    "Ienergy[12]=NGICB\n",
    "Ienergy[13]=PCICB\n",
    "Ienergy[14]=POICB\n",
    "Ienergy[15]=RFICB\n",
    "Ienergy[16]=WWICB"
   ]
  },
  {
   "cell_type": "code",
   "execution_count": 250,
   "metadata": {
    "collapsed": true
   },
   "outputs": [],
   "source": [
    "Cenergy=np.zeros(dtype=np.float32,shape=(13,50,4))\n",
    "Clevel=[25.8,21.1,12,16,12,12,19.6,17.2,18.9,15.3,26.6,20,30.5]\n",
    "Cenergy[0]=CLCCB\n",
    "Cenergy[1]=DFCCB\n",
    "Cenergy[2]=ESCCB\n",
    "Cenergy[3]=EMCCB\n",
    "Cenergy[4]=GECCB\n",
    "Cenergy[5]=HYCCB\n",
    "Cenergy[6]=KSCCB\n",
    "Cenergy[7]=LGCCB\n",
    "Cenergy[8]=MGCCB\n",
    "Cenergy[9]=NGCCB\n",
    "Cenergy[10]=PCCCB\n",
    "Cenergy[11]=RFCCB\n",
    "Cenergy[12]=WWCCB"
   ]
  },
  {
   "cell_type": "code",
   "execution_count": 251,
   "metadata": {
    "collapsed": false
   },
   "outputs": [],
   "source": [
    "Oenergy=np.zeros(dtype=np.float32,shape=(18,50,4))\n",
    "Olevel=[22,19.1,25.8,21.1,12,16,12,12,20,19.6,17.2,20,18.9,15.3,26.6,20,20,30.5]\n",
    "Oenergy[0]=AROCB\n",
    "Oenergy[1]=AVACB\n",
    "Oenergy[2]=CLOCB\n",
    "Oenergy[3]=DFOCB\n",
    "Oenergy[4]=ESOCB\n",
    "Oenergy[5]=EMOCB\n",
    "Oenergy[6]=GEOCB\n",
    "Oenergy[7]=HYOCB\n",
    "Oenergy[8]=JFACB\n",
    "Oenergy[9]=KSOCB\n",
    "Oenergy[10]=LGOCB\n",
    "Oenergy[11]=LUOCB\n",
    "Oenergy[12]=MGOCB\n",
    "Oenergy[13]=NGOCB\n",
    "Oenergy[14]=PCOCB\n",
    "Oenergy[15]=POOCB\n",
    "Oenergy[16]=RFOCB\n",
    "Oenergy[17]=WWOCB"
   ]
  },
  {
   "cell_type": "code",
   "execution_count": 252,
   "metadata": {
    "collapsed": true
   },
   "outputs": [],
   "source": [
    "#计算清洁程度函数建模  12/c排放系数\n",
    "def getScore(e,l):\n",
    "    print(len(e))\n",
    "    sum=np.zeros(dtype=np.float32,shape=(50,4))\n",
    "    weighted=np.zeros(dtype=np.float32,shape=(50,4))\n",
    "    proportion=np.zeros(dtype=np.float32,shape=(len(e),50,4))\n",
    "    for i in range(len(e)):\n",
    "        sum+=e[i]\n",
    "        weighted+=e[i]*(12.0/l[i])\n",
    "    for i in range(len(e)):\n",
    "        proportion[i]=e[i]/sum\n",
    "    score=weighted*100/sum\n",
    "    return score,proportion"
   ]
  },
  {
   "cell_type": "code",
   "execution_count": 253,
   "metadata": {
    "collapsed": false
   },
   "outputs": [
    {
     "name": "stdout",
     "output_type": "stream",
     "text": [
      "22\n",
      "AZ is 73.147453\n",
      "CA is 73.123634\n",
      "NM is 64.147362\n",
      "TX is 70.009583\n"
     ]
    }
   ],
   "source": [
    "score,proportion=getScore(energy,level)\n",
    "print(\"AZ is %f\"%score[49,0])\n",
    "print(\"CA is %f\"%score[49,1])\n",
    "print(\"NM is %f\"%score[49,2])\n",
    "print(\"TX is %f\"%score[49,3])"
   ]
  },
  {
   "cell_type": "code",
   "execution_count": 254,
   "metadata": {
    "collapsed": false
   },
   "outputs": [
    {
     "name": "stdout",
     "output_type": "stream",
     "text": [
      "17\n",
      "AZ is 81.720322\n",
      "CA is 76.781967\n",
      "NM is 76.333900\n",
      "TX is 71.082069\n"
     ]
    }
   ],
   "source": [
    "Iscore,Iproportion=getScore(Ienergy,Ilevel)\n",
    "print(\"AZ is %f\"%Iscore[49,0])\n",
    "print(\"CA is %f\"%Iscore[49,1])\n",
    "print(\"NM is %f\"%Iscore[49,2])\n",
    "print(\"TX is %f\"%Iscore[49,3])"
   ]
  },
  {
   "cell_type": "code",
   "execution_count": 255,
   "metadata": {
    "collapsed": false
   },
   "outputs": [
    {
     "name": "stdout",
     "output_type": "stream",
     "text": [
      "13\n",
      "AZ is 92.451767\n",
      "CA is 89.675987\n",
      "NM is 87.449562\n",
      "TX is 91.682343\n"
     ]
    }
   ],
   "source": [
    "Cscore,Cproportion=getScore(Cenergy,Clevel)\n",
    "print(\"AZ is %f\"%Cscore[49,0])\n",
    "print(\"CA is %f\"%Cscore[49,1])\n",
    "print(\"NM is %f\"%Cscore[49,2])\n",
    "print(\"TX is %f\"%Cscore[49,3])"
   ]
  },
  {
   "cell_type": "code",
   "execution_count": 256,
   "metadata": {
    "collapsed": false
   },
   "outputs": [
    {
     "name": "stdout",
     "output_type": "stream",
     "text": [
      "18\n",
      "AZ is 64.435249\n",
      "CA is 69.075790\n",
      "NM is 58.246490\n",
      "TX is 64.816238\n"
     ]
    }
   ],
   "source": [
    "Oscore,Oproportion=getScore(Oenergy,Olevel)\n",
    "print(\"AZ is %f\"%Oscore[49,0])\n",
    "print(\"CA is %f\"%Oscore[49,1])\n",
    "print(\"NM is %f\"%Oscore[49,2])\n",
    "print(\"TX is %f\"%Oscore[49,3])"
   ]
  },
  {
   "cell_type": "code",
   "execution_count": 257,
   "metadata": {
    "collapsed": false
   },
   "outputs": [
    {
     "name": "stdout",
     "output_type": "stream",
     "text": [
      "沥青和道路石油\n",
      "[ 0.0097879   0.00869476  0.01084207  0.0048151 ]\n",
      "航空汽油\n",
      "[ 0.00031504  0.00017484  0.00046853  0.00013759]\n",
      "生物质总消费\n",
      "[ 0.01742273  0.02729811  0.0185335   0.01163695]\n",
      "煤\n",
      "[ 0.20331956  0.00636735  0.32808161  0.11756399]\n",
      "馏分燃料\n",
      "[ 0.07053794  0.0639936   0.07984023  0.06041517]\n",
      "电力消耗\n",
      "[ 0.12326954  0.10761885  0.07914814  0.09247084]\n",
      "乙醇燃料\n",
      "[ 0.0095697   0.00992936  0.00440937  0.0052376 ]\n",
      "石化燃料\n",
      "[ 0.  0.  0.  0.]\n",
      "地热\n",
      "[ 0.00016191  0.01548744  0.00033977  0.00016145]\n",
      "水力\n",
      "[ 0.03086294  0.03307271  0.00283394  0.000788  ]\n",
      "风能\n",
      "[ 0.00014187  0.00692549  0.01617678  0.01534091]\n",
      "喷气燃料\n",
      "[ 0.0158855   0.06750642  0.0081305   0.02750626]\n",
      "煤油\n",
      "[  4.04035109e-06   1.38817821e-04   8.24069502e-06   4.83119838e-05]\n",
      "液化石油气\n",
      "[ 0.00360064  0.00740397  0.02429634  0.11688462]\n",
      "润滑油\n",
      "[ 0.00134852  0.00267315  0.00159349  0.00187909]\n",
      "车用汽油\n",
      "[ 0.16326138  0.22679818  0.12942798  0.11854635]\n",
      "天然气\n",
      "[ 0.18532005  0.29056948  0.26481244  0.27174291]\n",
      "核能发电\n",
      "[ 0.15779234  0.04037069  0.          0.03406902]\n",
      "石油焦\n",
      "[ 0.          0.00911922  0.00374277  0.01266887]\n",
      "其他石油\n",
      "[ 0.00106787  0.02933543  0.01478106  0.09045189]\n",
      "残油\n",
      "[  0.00000000e+00   2.94917226e-02   6.72264869e-05   1.19753452e-02]\n",
      "木材\n",
      "[ 0.00633058  0.01703035  0.0124661   0.00565967]\n"
     ]
    }
   ],
   "source": [
    "#这段代码中的year表示的是偏移量 例如1960 year=0 2009 year=49\n",
    "year=49\n",
    "for i in range (22):\n",
    "    print(name[i])\n",
    "    print(proportion[i,year,:])"
   ]
  },
  {
   "cell_type": "code",
   "execution_count": 272,
   "metadata": {
    "collapsed": false
   },
   "outputs": [],
   "source": [
    "import xlwt\n",
    "import sys\n",
    "\n",
    "'''\n",
    "name:Excel Table Name\n",
    "sheet_name:Sheet name \n",
    "data: a list of data array, like a two-dimension array\n",
    "head: the header of table\n",
    "\n",
    "Usage like:\n",
    "export_xml_result('combined_res1.xls',\n",
    "                           [l0_1, l1_1, right_1, predict_1, path_1],['Logist_0','Logist_1','Right_Label','Predict','File_Path'],'sheet')\n",
    "'''\n",
    "def export_xml_result(name, data, head=None,sheet_name='sheet'):\n",
    "    workbook = xlwt.Workbook(encoding='utf-8')\n",
    "    worksheet = workbook.add_sheet('sheet')\n",
    "    start_row = 0\n",
    "    if (head is not None):\n",
    "        for id, item in enumerate(head):\n",
    "            worksheet.write(0, id, str(item))\n",
    "        start_row = 1\n",
    "\n",
    "    for colume, sub_data in enumerate(data):\n",
    "        for row, ele in enumerate(sub_data):\n",
    "            worksheet.write(row + start_row, colume, str(ele))\n",
    "    workbook.save(name)\n"
   ]
  },
  {
   "cell_type": "code",
   "execution_count": 271,
   "metadata": {
    "collapsed": false
   },
   "outputs": [],
   "source": [
    "clean_energy=np.zeros(dtype=np.float32,shape=(3,50,4))\n",
    "c_energy=np.zeros(dtype=np.float32,shape=(3,50,4))\n",
    "for i in range (len(Ilevel)):\n",
    "    if Ilevel[i]==12:\n",
    "        clean_energy[0]+=Ienergy[i]\n",
    "    else:\n",
    "        c_energy[0]+=Ienergy[i]\n",
    "for i in range (len(Clevel)):\n",
    "    if Clevel[i]==12:\n",
    "        clean_energy[1]+=Cenergy[i]\n",
    "    else:\n",
    "        c_energy[1]+=Cenergy[i]\n",
    "for i in range (len(Olevel)):\n",
    "    if Olevel[i]==12:\n",
    "        clean_energy[2]+=Oenergy[i]\n",
    "    else:\n",
    "        c_energy[2]+=Oenergy[i]\n",
    "TOTAL=np.zeros(dtype=np.float32,shape=(50,4))\n",
    "for i in range(3):\n",
    "    TOTAL+=clean_energy[i]+c_energy[i]\n",
    "clean_energy=clean_energy/TOTAL\n",
    "c_energy=c_energy/TOTAL"
   ]
  },
  {
   "cell_type": "code",
   "execution_count": 277,
   "metadata": {
    "collapsed": false
   },
   "outputs": [],
   "source": [
    "en=np.zeros(dtype=np.float32,shape=(6,50,4))\n",
    "for i in range(3):\n",
    "    en[i*2]=clean_energy[i]\n",
    "    en[2*i+1]=c_energy[i]\n",
    "export_xml_result('propor.xls',\n",
    "                           np.c_[['I_CLEAN','I_NOT','C_CLEAN','C_NOT','O_CLEAN','O_NOT'],en[:,49,:]].transpose(),['name','AZ','CA','NM','TX'],'sheet')"
   ]
  },
  {
   "cell_type": "code",
   "execution_count": 259,
   "metadata": {
    "collapsed": false
   },
   "outputs": [],
   "source": [
    "export_xml_result('proportion.xls',\n",
    "                           np.c_[name,proportion[:,49,:]].transpose(),['name','AZ','CA','NM','TX'],'sheet')"
   ]
  },
  {
   "cell_type": "code",
   "execution_count": 260,
   "metadata": {
    "collapsed": false
   },
   "outputs": [],
   "source": [
    "aa=np.array(level)\n",
    "export_xml_result('c.xls',\n",
    "                           np.c_[name,aa,12.0/aa].transpose(),['name','c','level'],'sheet')"
   ]
  },
  {
   "cell_type": "code",
   "execution_count": 268,
   "metadata": {
    "collapsed": true
   },
   "outputs": [],
   "source": [
    "AREA=[295234,423972,314917,695662]\n",
    "TECPS=TETCB/AREA"
   ]
  },
  {
   "cell_type": "code",
   "execution_count": 285,
   "metadata": {
    "collapsed": false
   },
   "outputs": [
    {
     "name": "stdout",
     "output_type": "stream",
     "text": [
      "[1960 1961 1962 1963 1964 1965 1966 1967 1968 1969 1970 1971 1972 1973 1974\n",
      " 1975 1976 1977 1978 1979 1980 1981 1982 1983 1984 1985 1986 1987 1988 1989\n",
      " 1990 1991 1992 1993 1994 1995 1996 1997 1998 1999 2000 2001 2002 2003 2004\n",
      " 2005 2006 2007 2008 2009]\n"
     ]
    },
    {
     "data": {
      "image/png": "[encoded data removed]",
      "text/plain": [
       "<matplotlib.figure.Figure at 0x1c1a58b2b0>"
      ]
     },
     "metadata": {},
     "output_type": "display_data"
    },
    {
     "name": "stdout",
     "output_type": "stream",
     "text": [
      "(50, 4)\n"
     ]
    }
   ],
   "source": [
    "#能量／面积\n",
    "x=np.arange(1960,2010)\n",
    "print(x)\n",
    "y=TECPS\n",
    "plt.plot(x,y[:,0], lw = 1.5,label = stateSet[0])\n",
    "plt.plot(x,y[:,1], lw = 1.5, label = stateSet[1])\n",
    "plt.plot(x,y[:,2], lw = 1.5,label = stateSet[2])\n",
    "plt.plot(x,y[:,3], lw = 1.5, label = stateSet[3])\n",
    "plt.grid(True)\n",
    "plt.legend(loc = 0) #图例位置自动\n",
    "plt.axis('tight')\n",
    "plt.xlabel('year')\n",
    "plt.ylabel('Thousand Million Btu per Square Kilometers')\n",
    "plt.title('TECPS')\n",
    "p1= r'TECPS.png'# 图片保存路径\n",
    "plt.savefig(p1)# 保存图片\n",
    "plt.show()\n",
    "na=[]\n",
    "for i in range(50):\n",
    "    na.append('Thousand Million Btu per Square Kilometers')\n",
    "print(TECPS.shape)\n",
    "export_xml_result('TECPS.xls',\n",
    "                           np.c_[na,TECPS].transpose(),['value','AZ','CA','NM','TX'],'sheet')"
   ]
  },
  {
   "cell_type": "code",
   "execution_count": 286,
   "metadata": {
    "collapsed": false
   },
   "outputs": [
    {
     "name": "stdout",
     "output_type": "stream",
     "text": [
      "[1960 1961 1962 1963 1964 1965 1966 1967 1968 1969 1970 1971 1972 1973 1974\n",
      " 1975 1976 1977 1978 1979 1980 1981 1982 1983 1984 1985 1986 1987 1988 1989\n",
      " 1990 1991 1992 1993 1994 1995 1996 1997 1998 1999 2000 2001 2002 2003 2004\n",
      " 2005 2006 2007 2008 2009]\n"
     ]
    },
    {
     "data": {
      "image/png": "[encoded data removed]",
      "text/plain": [
       "<matplotlib.figure.Figure at 0x1c0bcee518>"
      ]
     },
     "metadata": {},
     "output_type": "display_data"
    }
   ],
   "source": [
    "#能量／人均\n",
    "x=np.arange(1960,2010)\n",
    "print(x)\n",
    "y=TETPB\n",
    "plt.plot(x,y[:,0], lw = 1.5,label = stateSet[0])\n",
    "plt.plot(x,y[:,1], lw = 1.5, label = stateSet[1])\n",
    "plt.plot(x,y[:,2], lw = 1.5,label = stateSet[2])\n",
    "plt.plot(x,y[:,3], lw = 1.5, label = stateSet[3])\n",
    "plt.grid(True)\n",
    "plt.legend(loc = 0) #图例位置自动\n",
    "plt.axis('tight')\n",
    "plt.xlabel('year')\n",
    "plt.ylabel('Million Btu')\n",
    "plt.title('TETPB')\n",
    "p1= r'TETPB.png'# 图片保存路径\n",
    "plt.savefig(p1)# 保存图片\n",
    "plt.show()\n",
    "na=[]\n",
    "for i in range(50):\n",
    "    na.append('Million Btu')\n",
    "export_xml_result('TETPB.xls',\n",
    "                           np.c_[na,TETPB].transpose(),['value','AZ','CA','NM','TX'],'sheet')\n"
   ]
  },
  {
   "cell_type": "code",
   "execution_count": 287,
   "metadata": {
    "collapsed": false
   },
   "outputs": [
    {
     "name": "stdout",
     "output_type": "stream",
     "text": [
      "[1960 1961 1962 1963 1964 1965 1966 1967 1968 1969 1970 1971 1972 1973 1974\n",
      " 1975 1976 1977 1978 1979 1980 1981 1982 1983 1984 1985 1986 1987 1988 1989\n",
      " 1990 1991 1992 1993 1994 1995 1996 1997 1998 1999 2000 2001 2002 2003 2004\n",
      " 2005 2006 2007 2008 2009]\n"
     ]
    },
    {
     "data": {
      "image/png": "[encoded data removed]",
      "text/plain": [
       "<matplotlib.figure.Figure at 0x1c1952f278>"
      ]
     },
     "metadata": {},
     "output_type": "display_data"
    }
   ],
   "source": [
    "#分数\n",
    "x=np.arange(1960,2010)\n",
    "print(x)\n",
    "y=score\n",
    "plt.plot(x,y[:,0], lw = 1.5,label = stateSet[0])\n",
    "plt.plot(x,y[:,1], lw = 1.5, label = stateSet[1])\n",
    "plt.plot(x,y[:,2], lw = 1.5,label = stateSet[2])\n",
    "plt.plot(x,y[:,3], lw = 1.5, label = stateSet[3])\n",
    "plt.grid(True)\n",
    "plt.legend(loc = 0) #图例位置自动\n",
    "plt.axis('tight')\n",
    "plt.xlabel('year')\n",
    "plt.ylabel('score')\n",
    "plt.title('Characteristic Value for the Energy Structure')\n",
    "p1= r'score.png'# 图片保存路径\n",
    "plt.savefig(p1)# 保存图片\n",
    "plt.show()\n",
    "na=[]\n",
    "for i in range(50):\n",
    "    na.append('SCORE')\n",
    "export_xml_result('SCORE.xls',\n",
    "                           np.c_[na,score].transpose(),['value','AZ','CA','NM','TX'],'sheet')\n",
    "\n",
    "\n"
   ]
  },
  {
   "cell_type": "code",
   "execution_count": 288,
   "metadata": {
    "collapsed": false
   },
   "outputs": [
    {
     "name": "stdout",
     "output_type": "stream",
     "text": [
      "[1960 1961 1962 1963 1964 1965 1966 1967 1968 1969 1970 1971 1972 1973 1974\n",
      " 1975 1976 1977 1978 1979 1980 1981 1982 1983 1984 1985 1986 1987 1988 1989\n",
      " 1990 1991 1992 1993 1994 1995 1996 1997 1998 1999 2000 2001 2002 2003 2004\n",
      " 2005 2006 2007 2008 2009]\n"
     ]
    },
    {
     "data": {
      "image/png": "[encoded data removed]",
      "text/plain": [
       "<matplotlib.figure.Figure at 0x1c0c0bf6a0>"
      ]
     },
     "metadata": {},
     "output_type": "display_data"
    }
   ],
   "source": [
    "#能量／gdp\n",
    "x=np.arange(1960,2010)\n",
    "print(x)\n",
    "y=TETGR\n",
    "plt.plot(x,y[:,0], lw = 1.5,label = stateSet[0])\n",
    "plt.plot(x,y[:,1], lw = 1.5, label = stateSet[1])\n",
    "plt.plot(x,y[:,2], lw = 1.5,label = stateSet[2])\n",
    "plt.plot(x,y[:,3], lw = 1.5, label = stateSet[3])\n",
    "plt.grid(True)\n",
    "plt.legend(loc = 0) #图例位置自动\n",
    "plt.axis('tight')\n",
    "plt.xlabel('year')\n",
    "plt.ylabel('Thousand Million Btu per chained(2000) dollar')\n",
    "plt.title('TETGR')\n",
    "p1= r'TETGR.png'# 图片保存路径\n",
    "plt.savefig(p1)# 保存图片\n",
    "plt.show()\n",
    "\n",
    "na=[]\n",
    "for i in range(50):\n",
    "    na.append('Thousand Million Btu per chained(2000) dollar')\n",
    "export_xml_result('TETGR.xls',\n",
    "                           np.c_[na,TETGR].transpose(),['value','AZ','CA','NM','TX'],'sheet')\n",
    "\n"
   ]
  },
  {
   "cell_type": "code",
   "execution_count": 311,
   "metadata": {
    "collapsed": true
   },
   "outputs": [],
   "source": [
    "def predict(score):\n",
    "    data=score\n",
    "    dta=pd.Series(data)\n",
    "    dta.index = pd.Index(sm.tsa.datetools.dates_from_range('1960','2009'))\n",
    "    arma_mod20 = sm.tsa.ARMA(dta, (2,0)).fit(disp=False)\n",
    "    arma_mod30 = sm.tsa.ARMA(dta, (3,2)).fit(disp=False)\n",
    "    sm.stats.durbin_watson(arma_mod30.resid.values)\n",
    "    resid = arma_mod30.resid\n",
    "    stats.normaltest(resid)\n",
    "    \n",
    "\n",
    "    r,q,p = sm.tsa.acf(resid.values.squeeze(), qstat=True)\n",
    "    data = np.c_[range(1,41), r[1:], q, p]\n",
    "    table = pd.DataFrame(data, columns=['lag', \"AC\", \"Q\", \"Prob(>Q)\"])\n",
    "    predict_sunspots = arma_mod30.predict('2010', '2050', dynamic=True)\n",
    "    return predict_sunspots\n",
    "\n"
   ]
  },
  {
   "cell_type": "code",
   "execution_count": 312,
   "metadata": {
    "collapsed": false
   },
   "outputs": [
    {
     "name": "stderr",
     "output_type": "stream",
     "text": [
      "//anaconda/lib/python3.5/site-packages/statsmodels/base/model.py:473: HessianInversionWarning: Inverting hessian failed, no bse or cov_params available\n",
      "  'available', HessianInversionWarning)\n",
      "//anaconda/lib/python3.5/site-packages/statsmodels/base/model.py:496: ConvergenceWarning: Maximum Likelihood optimization failed to converge. Check mle_retvals\n",
      "  \"Check mle_retvals\", ConvergenceWarning)\n",
      "//anaconda/lib/python3.5/site-packages/statsmodels/base/model.py:496: ConvergenceWarning: Maximum Likelihood optimization failed to converge. Check mle_retvals\n",
      "  \"Check mle_retvals\", ConvergenceWarning)\n",
      "//anaconda/lib/python3.5/site-packages/statsmodels/base/model.py:496: ConvergenceWarning: Maximum Likelihood optimization failed to converge. Check mle_retvals\n",
      "  \"Check mle_retvals\", ConvergenceWarning)\n",
      "//anaconda/lib/python3.5/site-packages/statsmodels/base/model.py:496: ConvergenceWarning: Maximum Likelihood optimization failed to converge. Check mle_retvals\n",
      "  \"Check mle_retvals\", ConvergenceWarning)\n",
      "//anaconda/lib/python3.5/site-packages/statsmodels/base/model.py:496: ConvergenceWarning: Maximum Likelihood optimization failed to converge. Check mle_retvals\n",
      "  \"Check mle_retvals\", ConvergenceWarning)\n",
      "//anaconda/lib/python3.5/site-packages/statsmodels/base/model.py:496: ConvergenceWarning: Maximum Likelihood optimization failed to converge. Check mle_retvals\n",
      "  \"Check mle_retvals\", ConvergenceWarning)\n",
      "//anaconda/lib/python3.5/site-packages/statsmodels/base/model.py:496: ConvergenceWarning: Maximum Likelihood optimization failed to converge. Check mle_retvals\n",
      "  \"Check mle_retvals\", ConvergenceWarning)\n"
     ]
    }
   ],
   "source": [
    "file=['predict_TECPS.xls','predict_TETPB.xls','predict_score.xls','predict_TETGR.xls']\n",
    "na=[]\n",
    "lis=[TECPS,TETPB,score,TETGR]\n",
    "pr=np.zeros(dtype=np.float32,shape=(41,4))\n",
    "for i in range(41):\n",
    "    na.append(2010+i)\n",
    "for i in range(4):\n",
    "    for j in range(4):\n",
    "        pr[:,j]=predict(lis[i][:,j])\n",
    "    export_xml_result(file[i],\n",
    "                   np.c_[na,pr].transpose(),['year','predict_AZ','predict_CA','predict_NM','predict_TX'],'sheet')"
   ]
  },
  {
   "cell_type": "code",
   "execution_count": null,
   "metadata": {
    "collapsed": true
   },
   "outputs": [],
   "source": []
  }
 ],
 "metadata": {
  "anaconda-cloud": {},
  "kernelspec": {
   "display_name": "Python [conda root]",
   "language": "python",
   "name": "conda-root-py"
  },
  "language_info": {
   "codemirror_mode": {
    "name": "ipython",
    "version": 3
   },
   "file_extension": ".py",
   "mimetype": "text/x-python",
   "name": "python",
   "nbconvert_exporter": "python",
   "pygments_lexer": "ipython3",
   "version": "3.5.2"
  }
 },
 "nbformat": 4,
 "nbformat_minor": 1
}
